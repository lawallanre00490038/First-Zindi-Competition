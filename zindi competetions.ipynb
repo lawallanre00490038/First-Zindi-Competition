{
 "cells": [
  {
   "cell_type": "markdown",
   "id": "fd06c20f",
   "metadata": {},
   "source": [
    "### First Submission\n",
    "Data Science Nigeria 2021 AI Bootcamp Qualification Hackathon by Data Science Nigeria"
   ]
  },
  {
   "cell_type": "code",
   "execution_count": 8,
   "id": "27709002",
   "metadata": {},
   "outputs": [],
   "source": [
    "import os\n",
    "import pandas as pd\n",
    "import matplotlib.pyplot as plt\n",
    "from sklearn.linear_model import LogisticRegression\n",
    "from sklearn.preprocessing import StandardScaler\n",
    "import seaborn as sns\n",
    "from sklearn.model_selection import train_test_split\n",
    "from sklearn.metrics import f1_score, precision_score"
   ]
  },
  {
   "cell_type": "code",
   "execution_count": 10,
   "id": "693cd473",
   "metadata": {},
   "outputs": [
    {
     "data": {
      "text/plain": [
       "'C:\\\\Users\\\\LENOVO'"
      ]
     },
     "execution_count": 10,
     "metadata": {},
     "output_type": "execute_result"
    }
   ],
   "source": [
    "os.getcwd()"
   ]
  },
  {
   "cell_type": "markdown",
   "id": "0fa0f2c6",
   "metadata": {},
   "source": [
    "#### 1. Read Data"
   ]
  },
  {
   "cell_type": "code",
   "execution_count": 7,
   "id": "26911cb8",
   "metadata": {},
   "outputs": [
    {
     "ename": "FileNotFoundError",
     "evalue": "[Errno 2] No such file or directory: 'train.csv'",
     "output_type": "error",
     "traceback": [
      "\u001b[1;31m---------------------------------------------------------------------------\u001b[0m",
      "\u001b[1;31mFileNotFoundError\u001b[0m                         Traceback (most recent call last)",
      "\u001b[1;32m<ipython-input-7-738b21caca80>\u001b[0m in \u001b[0;36m<module>\u001b[1;34m\u001b[0m\n\u001b[1;32m----> 1\u001b[1;33m \u001b[0mtrain\u001b[0m \u001b[1;33m=\u001b[0m \u001b[0mpd\u001b[0m\u001b[1;33m.\u001b[0m\u001b[0mread_csv\u001b[0m\u001b[1;33m(\u001b[0m\u001b[1;34m'train.csv'\u001b[0m\u001b[1;33m)\u001b[0m\u001b[1;33m\u001b[0m\u001b[1;33m\u001b[0m\u001b[0m\n\u001b[0m\u001b[0;32m      2\u001b[0m \u001b[0mtest\u001b[0m \u001b[1;33m=\u001b[0m \u001b[0mpd\u001b[0m\u001b[1;33m.\u001b[0m\u001b[0mread_csv\u001b[0m\u001b[1;33m(\u001b[0m\u001b[1;34m'test.csv'\u001b[0m\u001b[1;33m)\u001b[0m\u001b[1;33m\u001b[0m\u001b[1;33m\u001b[0m\u001b[0m\n\u001b[0;32m      3\u001b[0m \u001b[0msample_submission\u001b[0m \u001b[1;33m=\u001b[0m \u001b[0mpd\u001b[0m\u001b[1;33m.\u001b[0m\u001b[0mread_csv\u001b[0m\u001b[1;33m(\u001b[0m\u001b[1;34m'samplesubmission.csv'\u001b[0m\u001b[1;33m)\u001b[0m\u001b[1;33m\u001b[0m\u001b[1;33m\u001b[0m\u001b[0m\n",
      "\u001b[1;32m~\\anaconda3\\lib\\site-packages\\pandas\\io\\parsers.py\u001b[0m in \u001b[0;36mread_csv\u001b[1;34m(filepath_or_buffer, sep, delimiter, header, names, index_col, usecols, squeeze, prefix, mangle_dupe_cols, dtype, engine, converters, true_values, false_values, skipinitialspace, skiprows, skipfooter, nrows, na_values, keep_default_na, na_filter, verbose, skip_blank_lines, parse_dates, infer_datetime_format, keep_date_col, date_parser, dayfirst, cache_dates, iterator, chunksize, compression, thousands, decimal, lineterminator, quotechar, quoting, doublequote, escapechar, comment, encoding, dialect, error_bad_lines, warn_bad_lines, delim_whitespace, low_memory, memory_map, float_precision, storage_options)\u001b[0m\n\u001b[0;32m    608\u001b[0m     \u001b[0mkwds\u001b[0m\u001b[1;33m.\u001b[0m\u001b[0mupdate\u001b[0m\u001b[1;33m(\u001b[0m\u001b[0mkwds_defaults\u001b[0m\u001b[1;33m)\u001b[0m\u001b[1;33m\u001b[0m\u001b[1;33m\u001b[0m\u001b[0m\n\u001b[0;32m    609\u001b[0m \u001b[1;33m\u001b[0m\u001b[0m\n\u001b[1;32m--> 610\u001b[1;33m     \u001b[1;32mreturn\u001b[0m \u001b[0m_read\u001b[0m\u001b[1;33m(\u001b[0m\u001b[0mfilepath_or_buffer\u001b[0m\u001b[1;33m,\u001b[0m \u001b[0mkwds\u001b[0m\u001b[1;33m)\u001b[0m\u001b[1;33m\u001b[0m\u001b[1;33m\u001b[0m\u001b[0m\n\u001b[0m\u001b[0;32m    611\u001b[0m \u001b[1;33m\u001b[0m\u001b[0m\n\u001b[0;32m    612\u001b[0m \u001b[1;33m\u001b[0m\u001b[0m\n",
      "\u001b[1;32m~\\anaconda3\\lib\\site-packages\\pandas\\io\\parsers.py\u001b[0m in \u001b[0;36m_read\u001b[1;34m(filepath_or_buffer, kwds)\u001b[0m\n\u001b[0;32m    460\u001b[0m \u001b[1;33m\u001b[0m\u001b[0m\n\u001b[0;32m    461\u001b[0m     \u001b[1;31m# Create the parser.\u001b[0m\u001b[1;33m\u001b[0m\u001b[1;33m\u001b[0m\u001b[1;33m\u001b[0m\u001b[0m\n\u001b[1;32m--> 462\u001b[1;33m     \u001b[0mparser\u001b[0m \u001b[1;33m=\u001b[0m \u001b[0mTextFileReader\u001b[0m\u001b[1;33m(\u001b[0m\u001b[0mfilepath_or_buffer\u001b[0m\u001b[1;33m,\u001b[0m \u001b[1;33m**\u001b[0m\u001b[0mkwds\u001b[0m\u001b[1;33m)\u001b[0m\u001b[1;33m\u001b[0m\u001b[1;33m\u001b[0m\u001b[0m\n\u001b[0m\u001b[0;32m    463\u001b[0m \u001b[1;33m\u001b[0m\u001b[0m\n\u001b[0;32m    464\u001b[0m     \u001b[1;32mif\u001b[0m \u001b[0mchunksize\u001b[0m \u001b[1;32mor\u001b[0m \u001b[0miterator\u001b[0m\u001b[1;33m:\u001b[0m\u001b[1;33m\u001b[0m\u001b[1;33m\u001b[0m\u001b[0m\n",
      "\u001b[1;32m~\\anaconda3\\lib\\site-packages\\pandas\\io\\parsers.py\u001b[0m in \u001b[0;36m__init__\u001b[1;34m(self, f, engine, **kwds)\u001b[0m\n\u001b[0;32m    817\u001b[0m             \u001b[0mself\u001b[0m\u001b[1;33m.\u001b[0m\u001b[0moptions\u001b[0m\u001b[1;33m[\u001b[0m\u001b[1;34m\"has_index_names\"\u001b[0m\u001b[1;33m]\u001b[0m \u001b[1;33m=\u001b[0m \u001b[0mkwds\u001b[0m\u001b[1;33m[\u001b[0m\u001b[1;34m\"has_index_names\"\u001b[0m\u001b[1;33m]\u001b[0m\u001b[1;33m\u001b[0m\u001b[1;33m\u001b[0m\u001b[0m\n\u001b[0;32m    818\u001b[0m \u001b[1;33m\u001b[0m\u001b[0m\n\u001b[1;32m--> 819\u001b[1;33m         \u001b[0mself\u001b[0m\u001b[1;33m.\u001b[0m\u001b[0m_engine\u001b[0m \u001b[1;33m=\u001b[0m \u001b[0mself\u001b[0m\u001b[1;33m.\u001b[0m\u001b[0m_make_engine\u001b[0m\u001b[1;33m(\u001b[0m\u001b[0mself\u001b[0m\u001b[1;33m.\u001b[0m\u001b[0mengine\u001b[0m\u001b[1;33m)\u001b[0m\u001b[1;33m\u001b[0m\u001b[1;33m\u001b[0m\u001b[0m\n\u001b[0m\u001b[0;32m    820\u001b[0m \u001b[1;33m\u001b[0m\u001b[0m\n\u001b[0;32m    821\u001b[0m     \u001b[1;32mdef\u001b[0m \u001b[0mclose\u001b[0m\u001b[1;33m(\u001b[0m\u001b[0mself\u001b[0m\u001b[1;33m)\u001b[0m\u001b[1;33m:\u001b[0m\u001b[1;33m\u001b[0m\u001b[1;33m\u001b[0m\u001b[0m\n",
      "\u001b[1;32m~\\anaconda3\\lib\\site-packages\\pandas\\io\\parsers.py\u001b[0m in \u001b[0;36m_make_engine\u001b[1;34m(self, engine)\u001b[0m\n\u001b[0;32m   1048\u001b[0m             )\n\u001b[0;32m   1049\u001b[0m         \u001b[1;31m# error: Too many arguments for \"ParserBase\"\u001b[0m\u001b[1;33m\u001b[0m\u001b[1;33m\u001b[0m\u001b[1;33m\u001b[0m\u001b[0m\n\u001b[1;32m-> 1050\u001b[1;33m         \u001b[1;32mreturn\u001b[0m \u001b[0mmapping\u001b[0m\u001b[1;33m[\u001b[0m\u001b[0mengine\u001b[0m\u001b[1;33m]\u001b[0m\u001b[1;33m(\u001b[0m\u001b[0mself\u001b[0m\u001b[1;33m.\u001b[0m\u001b[0mf\u001b[0m\u001b[1;33m,\u001b[0m \u001b[1;33m**\u001b[0m\u001b[0mself\u001b[0m\u001b[1;33m.\u001b[0m\u001b[0moptions\u001b[0m\u001b[1;33m)\u001b[0m  \u001b[1;31m# type: ignore[call-arg]\u001b[0m\u001b[1;33m\u001b[0m\u001b[1;33m\u001b[0m\u001b[0m\n\u001b[0m\u001b[0;32m   1051\u001b[0m \u001b[1;33m\u001b[0m\u001b[0m\n\u001b[0;32m   1052\u001b[0m     \u001b[1;32mdef\u001b[0m \u001b[0m_failover_to_python\u001b[0m\u001b[1;33m(\u001b[0m\u001b[0mself\u001b[0m\u001b[1;33m)\u001b[0m\u001b[1;33m:\u001b[0m\u001b[1;33m\u001b[0m\u001b[1;33m\u001b[0m\u001b[0m\n",
      "\u001b[1;32m~\\anaconda3\\lib\\site-packages\\pandas\\io\\parsers.py\u001b[0m in \u001b[0;36m__init__\u001b[1;34m(self, src, **kwds)\u001b[0m\n\u001b[0;32m   1865\u001b[0m \u001b[1;33m\u001b[0m\u001b[0m\n\u001b[0;32m   1866\u001b[0m         \u001b[1;31m# open handles\u001b[0m\u001b[1;33m\u001b[0m\u001b[1;33m\u001b[0m\u001b[1;33m\u001b[0m\u001b[0m\n\u001b[1;32m-> 1867\u001b[1;33m         \u001b[0mself\u001b[0m\u001b[1;33m.\u001b[0m\u001b[0m_open_handles\u001b[0m\u001b[1;33m(\u001b[0m\u001b[0msrc\u001b[0m\u001b[1;33m,\u001b[0m \u001b[0mkwds\u001b[0m\u001b[1;33m)\u001b[0m\u001b[1;33m\u001b[0m\u001b[1;33m\u001b[0m\u001b[0m\n\u001b[0m\u001b[0;32m   1868\u001b[0m         \u001b[1;32massert\u001b[0m \u001b[0mself\u001b[0m\u001b[1;33m.\u001b[0m\u001b[0mhandles\u001b[0m \u001b[1;32mis\u001b[0m \u001b[1;32mnot\u001b[0m \u001b[1;32mNone\u001b[0m\u001b[1;33m\u001b[0m\u001b[1;33m\u001b[0m\u001b[0m\n\u001b[0;32m   1869\u001b[0m         \u001b[1;32mfor\u001b[0m \u001b[0mkey\u001b[0m \u001b[1;32min\u001b[0m \u001b[1;33m(\u001b[0m\u001b[1;34m\"storage_options\"\u001b[0m\u001b[1;33m,\u001b[0m \u001b[1;34m\"encoding\"\u001b[0m\u001b[1;33m,\u001b[0m \u001b[1;34m\"memory_map\"\u001b[0m\u001b[1;33m,\u001b[0m \u001b[1;34m\"compression\"\u001b[0m\u001b[1;33m)\u001b[0m\u001b[1;33m:\u001b[0m\u001b[1;33m\u001b[0m\u001b[1;33m\u001b[0m\u001b[0m\n",
      "\u001b[1;32m~\\anaconda3\\lib\\site-packages\\pandas\\io\\parsers.py\u001b[0m in \u001b[0;36m_open_handles\u001b[1;34m(self, src, kwds)\u001b[0m\n\u001b[0;32m   1360\u001b[0m         \u001b[0mLet\u001b[0m \u001b[0mthe\u001b[0m \u001b[0mreaders\u001b[0m \u001b[0mopen\u001b[0m \u001b[0mIOHanldes\u001b[0m \u001b[0mafter\u001b[0m \u001b[0mthey\u001b[0m \u001b[0mare\u001b[0m \u001b[0mdone\u001b[0m \u001b[1;32mwith\u001b[0m \u001b[0mtheir\u001b[0m \u001b[0mpotential\u001b[0m \u001b[0mraises\u001b[0m\u001b[1;33m.\u001b[0m\u001b[1;33m\u001b[0m\u001b[1;33m\u001b[0m\u001b[0m\n\u001b[0;32m   1361\u001b[0m         \"\"\"\n\u001b[1;32m-> 1362\u001b[1;33m         self.handles = get_handle(\n\u001b[0m\u001b[0;32m   1363\u001b[0m             \u001b[0msrc\u001b[0m\u001b[1;33m,\u001b[0m\u001b[1;33m\u001b[0m\u001b[1;33m\u001b[0m\u001b[0m\n\u001b[0;32m   1364\u001b[0m             \u001b[1;34m\"r\"\u001b[0m\u001b[1;33m,\u001b[0m\u001b[1;33m\u001b[0m\u001b[1;33m\u001b[0m\u001b[0m\n",
      "\u001b[1;32m~\\anaconda3\\lib\\site-packages\\pandas\\io\\common.py\u001b[0m in \u001b[0;36mget_handle\u001b[1;34m(path_or_buf, mode, encoding, compression, memory_map, is_text, errors, storage_options)\u001b[0m\n\u001b[0;32m    640\u001b[0m                 \u001b[0merrors\u001b[0m \u001b[1;33m=\u001b[0m \u001b[1;34m\"replace\"\u001b[0m\u001b[1;33m\u001b[0m\u001b[1;33m\u001b[0m\u001b[0m\n\u001b[0;32m    641\u001b[0m             \u001b[1;31m# Encoding\u001b[0m\u001b[1;33m\u001b[0m\u001b[1;33m\u001b[0m\u001b[1;33m\u001b[0m\u001b[0m\n\u001b[1;32m--> 642\u001b[1;33m             handle = open(\n\u001b[0m\u001b[0;32m    643\u001b[0m                 \u001b[0mhandle\u001b[0m\u001b[1;33m,\u001b[0m\u001b[1;33m\u001b[0m\u001b[1;33m\u001b[0m\u001b[0m\n\u001b[0;32m    644\u001b[0m                 \u001b[0mioargs\u001b[0m\u001b[1;33m.\u001b[0m\u001b[0mmode\u001b[0m\u001b[1;33m,\u001b[0m\u001b[1;33m\u001b[0m\u001b[1;33m\u001b[0m\u001b[0m\n",
      "\u001b[1;31mFileNotFoundError\u001b[0m: [Errno 2] No such file or directory: 'train.csv'"
     ]
    }
   ],
   "source": [
    "train = pd.read_csv('train.csv')\n",
    "test = pd.read_csv('test.csv')\n",
    "sample_submission = pd.read_csv('samplesubmission.csv')"
   ]
  },
  {
   "cell_type": "code",
   "execution_count": null,
   "id": "b5aabb7d",
   "metadata": {},
   "outputs": [],
   "source": [
    "train.head(3)"
   ]
  },
  {
   "cell_type": "code",
   "execution_count": null,
   "id": "64e46734",
   "metadata": {},
   "outputs": [],
   "source": [
    "test.head(5)"
   ]
  },
  {
   "cell_type": "code",
   "execution_count": null,
   "id": "cdba8b35",
   "metadata": {},
   "outputs": [],
   "source": [
    "sample_submission.head(4)"
   ]
  },
  {
   "cell_type": "markdown",
   "id": "169bb4f0",
   "metadata": {},
   "source": [
    "#### Data Exploration"
   ]
  },
  {
   "cell_type": "code",
   "execution_count": 128,
   "id": "e5a73da3",
   "metadata": {},
   "outputs": [
    {
     "data": {
      "text/plain": [
       "((1552, 27), (664, 26), (672, 2))"
      ]
     },
     "execution_count": 128,
     "metadata": {},
     "output_type": "execute_result"
    }
   ],
   "source": [
    "train.shape, test.shape, sample_submission.shape"
   ]
  },
  {
   "cell_type": "code",
   "execution_count": 129,
   "id": "520f56db",
   "metadata": {},
   "outputs": [
    {
     "data": {
      "text/plain": [
       "['Response']"
      ]
     },
     "execution_count": 129,
     "metadata": {},
     "output_type": "execute_result"
    }
   ],
   "source": [
    "target = [cols for cols in train.columns if  cols not in test.columns]\n",
    "target"
   ]
  },
  {
   "cell_type": "code",
   "execution_count": 130,
   "id": "6682b2a5",
   "metadata": {
    "scrolled": true
   },
   "outputs": [
    {
     "data": {
      "text/plain": [
       "((1552, 27), (664, 26))"
      ]
     },
     "execution_count": 130,
     "metadata": {},
     "output_type": "execute_result"
    }
   ],
   "source": [
    "train = train.dropna()\n",
    "test = test.dropna()\n",
    "train.shape, test.shape"
   ]
  },
  {
   "cell_type": "code",
   "execution_count": null,
   "id": "c2eb05d2",
   "metadata": {},
   "outputs": [],
   "source": []
  },
  {
   "cell_type": "code",
   "execution_count": null,
   "id": "791e207a",
   "metadata": {},
   "outputs": [],
   "source": []
  },
  {
   "cell_type": "code",
   "execution_count": 125,
   "id": "6ff262a1",
   "metadata": {},
   "outputs": [
    {
     "data": {
      "text/html": [
       "<div>\n",
       "<style scoped>\n",
       "    .dataframe tbody tr th:only-of-type {\n",
       "        vertical-align: middle;\n",
       "    }\n",
       "\n",
       "    .dataframe tbody tr th {\n",
       "        vertical-align: top;\n",
       "    }\n",
       "\n",
       "    .dataframe thead th {\n",
       "        text-align: right;\n",
       "    }\n",
       "</style>\n",
       "<table border=\"1\" class=\"dataframe\">\n",
       "  <thead>\n",
       "    <tr style=\"text-align: right;\">\n",
       "      <th></th>\n",
       "      <th>Response</th>\n",
       "    </tr>\n",
       "  </thead>\n",
       "  <tbody>\n",
       "    <tr>\n",
       "      <th>count</th>\n",
       "      <td>0.0</td>\n",
       "    </tr>\n",
       "    <tr>\n",
       "      <th>mean</th>\n",
       "      <td>NaN</td>\n",
       "    </tr>\n",
       "    <tr>\n",
       "      <th>std</th>\n",
       "      <td>NaN</td>\n",
       "    </tr>\n",
       "    <tr>\n",
       "      <th>min</th>\n",
       "      <td>NaN</td>\n",
       "    </tr>\n",
       "    <tr>\n",
       "      <th>25%</th>\n",
       "      <td>NaN</td>\n",
       "    </tr>\n",
       "    <tr>\n",
       "      <th>50%</th>\n",
       "      <td>NaN</td>\n",
       "    </tr>\n",
       "    <tr>\n",
       "      <th>75%</th>\n",
       "      <td>NaN</td>\n",
       "    </tr>\n",
       "    <tr>\n",
       "      <th>max</th>\n",
       "      <td>NaN</td>\n",
       "    </tr>\n",
       "  </tbody>\n",
       "</table>\n",
       "</div>"
      ],
      "text/plain": [
       "       Response\n",
       "count       0.0\n",
       "mean        NaN\n",
       "std         NaN\n",
       "min         NaN\n",
       "25%         NaN\n",
       "50%         NaN\n",
       "75%         NaN\n",
       "max         NaN"
      ]
     },
     "execution_count": 125,
     "metadata": {},
     "output_type": "execute_result"
    }
   ],
   "source": [
    "sample_submission.describe()"
   ]
  },
  {
   "cell_type": "code",
   "execution_count": 131,
   "id": "6c49516c",
   "metadata": {},
   "outputs": [
    {
     "data": {
      "text/plain": [
       "0       0\n",
       "1       0\n",
       "2       1\n",
       "3       0\n",
       "4       0\n",
       "       ..\n",
       "1563    0\n",
       "1564    0\n",
       "1565    0\n",
       "1566    0\n",
       "1567    0\n",
       "Name: Response, Length: 1552, dtype: int64"
      ]
     },
     "execution_count": 131,
     "metadata": {},
     "output_type": "execute_result"
    }
   ],
   "source": [
    "y = train[target[0]]\n",
    "y"
   ]
  },
  {
   "cell_type": "code",
   "execution_count": 98,
   "id": "6507b273",
   "metadata": {},
   "outputs": [
    {
     "data": {
      "text/html": [
       "<div>\n",
       "<style scoped>\n",
       "    .dataframe tbody tr th:only-of-type {\n",
       "        vertical-align: middle;\n",
       "    }\n",
       "\n",
       "    .dataframe tbody tr th {\n",
       "        vertical-align: top;\n",
       "    }\n",
       "\n",
       "    .dataframe thead th {\n",
       "        text-align: right;\n",
       "    }\n",
       "</style>\n",
       "<table border=\"1\" class=\"dataframe\">\n",
       "  <thead>\n",
       "    <tr style=\"text-align: right;\">\n",
       "      <th></th>\n",
       "      <th>Year_of_Birth</th>\n",
       "      <th>Disposable_Income</th>\n",
       "      <th>No_of_Kids_in_home</th>\n",
       "      <th>No_of_Teen_in_home</th>\n",
       "      <th>Recency</th>\n",
       "      <th>Discounted_Purchases</th>\n",
       "      <th>WebPurchases</th>\n",
       "      <th>CatalogPurchases</th>\n",
       "      <th>StorePurchases</th>\n",
       "      <th>Amount_on_Wines</th>\n",
       "      <th>...</th>\n",
       "      <th>Amount_on_SweetProducts</th>\n",
       "      <th>Amount_on_GoldProds</th>\n",
       "      <th>WebVisitsMonth</th>\n",
       "      <th>Cmp3Accepted</th>\n",
       "      <th>Cmp4Accepted</th>\n",
       "      <th>Cmp5Accepted</th>\n",
       "      <th>Cmp1Accepted</th>\n",
       "      <th>Cmp2Accepted</th>\n",
       "      <th>Any_Complain</th>\n",
       "      <th>Response</th>\n",
       "    </tr>\n",
       "  </thead>\n",
       "  <tbody>\n",
       "    <tr>\n",
       "      <th>count</th>\n",
       "      <td>1552.000000</td>\n",
       "      <td>1552.000000</td>\n",
       "      <td>1552.000000</td>\n",
       "      <td>1552.000000</td>\n",
       "      <td>1552.000000</td>\n",
       "      <td>1552.000000</td>\n",
       "      <td>1552.000000</td>\n",
       "      <td>1552.000000</td>\n",
       "      <td>1552.000000</td>\n",
       "      <td>1552.000000</td>\n",
       "      <td>...</td>\n",
       "      <td>1552.000000</td>\n",
       "      <td>1552.000000</td>\n",
       "      <td>1552.000000</td>\n",
       "      <td>1552.000000</td>\n",
       "      <td>1552.000000</td>\n",
       "      <td>1552.000000</td>\n",
       "      <td>1552.000000</td>\n",
       "      <td>1552.000000</td>\n",
       "      <td>1552.000000</td>\n",
       "      <td>1552.000000</td>\n",
       "    </tr>\n",
       "    <tr>\n",
       "      <th>mean</th>\n",
       "      <td>1970.057345</td>\n",
       "      <td>62381.186598</td>\n",
       "      <td>0.458763</td>\n",
       "      <td>0.498067</td>\n",
       "      <td>55.306057</td>\n",
       "      <td>2.289304</td>\n",
       "      <td>3.995490</td>\n",
       "      <td>2.668170</td>\n",
       "      <td>5.708763</td>\n",
       "      <td>303.798969</td>\n",
       "      <td>...</td>\n",
       "      <td>26.636598</td>\n",
       "      <td>43.564433</td>\n",
       "      <td>5.335696</td>\n",
       "      <td>0.073454</td>\n",
       "      <td>0.071521</td>\n",
       "      <td>0.080541</td>\n",
       "      <td>0.063789</td>\n",
       "      <td>0.012887</td>\n",
       "      <td>0.008376</td>\n",
       "      <td>0.153351</td>\n",
       "    </tr>\n",
       "    <tr>\n",
       "      <th>std</th>\n",
       "      <td>11.915020</td>\n",
       "      <td>32089.169563</td>\n",
       "      <td>0.539456</td>\n",
       "      <td>0.543406</td>\n",
       "      <td>28.768217</td>\n",
       "      <td>1.921594</td>\n",
       "      <td>2.716923</td>\n",
       "      <td>3.046397</td>\n",
       "      <td>3.257126</td>\n",
       "      <td>340.762432</td>\n",
       "      <td>...</td>\n",
       "      <td>40.475232</td>\n",
       "      <td>51.059866</td>\n",
       "      <td>2.462629</td>\n",
       "      <td>0.260964</td>\n",
       "      <td>0.257776</td>\n",
       "      <td>0.272217</td>\n",
       "      <td>0.244455</td>\n",
       "      <td>0.112822</td>\n",
       "      <td>0.091167</td>\n",
       "      <td>0.360441</td>\n",
       "    </tr>\n",
       "    <tr>\n",
       "      <th>min</th>\n",
       "      <td>1900.000000</td>\n",
       "      <td>2076.000000</td>\n",
       "      <td>0.000000</td>\n",
       "      <td>0.000000</td>\n",
       "      <td>7.000000</td>\n",
       "      <td>0.000000</td>\n",
       "      <td>0.000000</td>\n",
       "      <td>0.000000</td>\n",
       "      <td>0.000000</td>\n",
       "      <td>5.000000</td>\n",
       "      <td>...</td>\n",
       "      <td>0.000000</td>\n",
       "      <td>0.000000</td>\n",
       "      <td>0.000000</td>\n",
       "      <td>0.000000</td>\n",
       "      <td>0.000000</td>\n",
       "      <td>0.000000</td>\n",
       "      <td>0.000000</td>\n",
       "      <td>0.000000</td>\n",
       "      <td>0.000000</td>\n",
       "      <td>0.000000</td>\n",
       "    </tr>\n",
       "    <tr>\n",
       "      <th>25%</th>\n",
       "      <td>1960.000000</td>\n",
       "      <td>41612.400000</td>\n",
       "      <td>0.000000</td>\n",
       "      <td>0.000000</td>\n",
       "      <td>31.000000</td>\n",
       "      <td>1.000000</td>\n",
       "      <td>2.000000</td>\n",
       "      <td>0.000000</td>\n",
       "      <td>3.000000</td>\n",
       "      <td>27.000000</td>\n",
       "      <td>...</td>\n",
       "      <td>1.000000</td>\n",
       "      <td>8.000000</td>\n",
       "      <td>3.000000</td>\n",
       "      <td>0.000000</td>\n",
       "      <td>0.000000</td>\n",
       "      <td>0.000000</td>\n",
       "      <td>0.000000</td>\n",
       "      <td>0.000000</td>\n",
       "      <td>0.000000</td>\n",
       "      <td>0.000000</td>\n",
       "    </tr>\n",
       "    <tr>\n",
       "      <th>50%</th>\n",
       "      <td>1971.000000</td>\n",
       "      <td>60964.200000</td>\n",
       "      <td>0.000000</td>\n",
       "      <td>0.000000</td>\n",
       "      <td>56.000000</td>\n",
       "      <td>2.000000</td>\n",
       "      <td>3.000000</td>\n",
       "      <td>2.000000</td>\n",
       "      <td>5.000000</td>\n",
       "      <td>167.000000</td>\n",
       "      <td>...</td>\n",
       "      <td>8.000000</td>\n",
       "      <td>25.000000</td>\n",
       "      <td>6.000000</td>\n",
       "      <td>0.000000</td>\n",
       "      <td>0.000000</td>\n",
       "      <td>0.000000</td>\n",
       "      <td>0.000000</td>\n",
       "      <td>0.000000</td>\n",
       "      <td>0.000000</td>\n",
       "      <td>0.000000</td>\n",
       "    </tr>\n",
       "    <tr>\n",
       "      <th>75%</th>\n",
       "      <td>1979.000000</td>\n",
       "      <td>81493.200000</td>\n",
       "      <td>1.000000</td>\n",
       "      <td>1.000000</td>\n",
       "      <td>80.000000</td>\n",
       "      <td>3.000000</td>\n",
       "      <td>6.000000</td>\n",
       "      <td>4.000000</td>\n",
       "      <td>8.000000</td>\n",
       "      <td>501.750000</td>\n",
       "      <td>...</td>\n",
       "      <td>33.000000</td>\n",
       "      <td>56.000000</td>\n",
       "      <td>7.000000</td>\n",
       "      <td>0.000000</td>\n",
       "      <td>0.000000</td>\n",
       "      <td>0.000000</td>\n",
       "      <td>0.000000</td>\n",
       "      <td>0.000000</td>\n",
       "      <td>0.000000</td>\n",
       "      <td>0.000000</td>\n",
       "    </tr>\n",
       "    <tr>\n",
       "      <th>max</th>\n",
       "      <td>1997.000000</td>\n",
       "      <td>799999.200000</td>\n",
       "      <td>2.000000</td>\n",
       "      <td>2.000000</td>\n",
       "      <td>106.000000</td>\n",
       "      <td>15.000000</td>\n",
       "      <td>27.000000</td>\n",
       "      <td>28.000000</td>\n",
       "      <td>13.000000</td>\n",
       "      <td>1498.000000</td>\n",
       "      <td>...</td>\n",
       "      <td>262.000000</td>\n",
       "      <td>291.000000</td>\n",
       "      <td>20.000000</td>\n",
       "      <td>1.000000</td>\n",
       "      <td>1.000000</td>\n",
       "      <td>1.000000</td>\n",
       "      <td>1.000000</td>\n",
       "      <td>1.000000</td>\n",
       "      <td>1.000000</td>\n",
       "      <td>1.000000</td>\n",
       "    </tr>\n",
       "  </tbody>\n",
       "</table>\n",
       "<p>8 rows × 23 columns</p>\n",
       "</div>"
      ],
      "text/plain": [
       "       Year_of_Birth  Disposable_Income  No_of_Kids_in_home  \\\n",
       "count    1552.000000        1552.000000         1552.000000   \n",
       "mean     1970.057345       62381.186598            0.458763   \n",
       "std        11.915020       32089.169563            0.539456   \n",
       "min      1900.000000        2076.000000            0.000000   \n",
       "25%      1960.000000       41612.400000            0.000000   \n",
       "50%      1971.000000       60964.200000            0.000000   \n",
       "75%      1979.000000       81493.200000            1.000000   \n",
       "max      1997.000000      799999.200000            2.000000   \n",
       "\n",
       "       No_of_Teen_in_home      Recency  Discounted_Purchases  WebPurchases  \\\n",
       "count         1552.000000  1552.000000           1552.000000   1552.000000   \n",
       "mean             0.498067    55.306057              2.289304      3.995490   \n",
       "std              0.543406    28.768217              1.921594      2.716923   \n",
       "min              0.000000     7.000000              0.000000      0.000000   \n",
       "25%              0.000000    31.000000              1.000000      2.000000   \n",
       "50%              0.000000    56.000000              2.000000      3.000000   \n",
       "75%              1.000000    80.000000              3.000000      6.000000   \n",
       "max              2.000000   106.000000             15.000000     27.000000   \n",
       "\n",
       "       CatalogPurchases  StorePurchases  Amount_on_Wines  ...  \\\n",
       "count       1552.000000     1552.000000      1552.000000  ...   \n",
       "mean           2.668170        5.708763       303.798969  ...   \n",
       "std            3.046397        3.257126       340.762432  ...   \n",
       "min            0.000000        0.000000         5.000000  ...   \n",
       "25%            0.000000        3.000000        27.000000  ...   \n",
       "50%            2.000000        5.000000       167.000000  ...   \n",
       "75%            4.000000        8.000000       501.750000  ...   \n",
       "max           28.000000       13.000000      1498.000000  ...   \n",
       "\n",
       "       Amount_on_SweetProducts  Amount_on_GoldProds  WebVisitsMonth  \\\n",
       "count              1552.000000          1552.000000     1552.000000   \n",
       "mean                 26.636598            43.564433        5.335696   \n",
       "std                  40.475232            51.059866        2.462629   \n",
       "min                   0.000000             0.000000        0.000000   \n",
       "25%                   1.000000             8.000000        3.000000   \n",
       "50%                   8.000000            25.000000        6.000000   \n",
       "75%                  33.000000            56.000000        7.000000   \n",
       "max                 262.000000           291.000000       20.000000   \n",
       "\n",
       "       Cmp3Accepted  Cmp4Accepted  Cmp5Accepted  Cmp1Accepted  Cmp2Accepted  \\\n",
       "count   1552.000000   1552.000000   1552.000000   1552.000000   1552.000000   \n",
       "mean       0.073454      0.071521      0.080541      0.063789      0.012887   \n",
       "std        0.260964      0.257776      0.272217      0.244455      0.112822   \n",
       "min        0.000000      0.000000      0.000000      0.000000      0.000000   \n",
       "25%        0.000000      0.000000      0.000000      0.000000      0.000000   \n",
       "50%        0.000000      0.000000      0.000000      0.000000      0.000000   \n",
       "75%        0.000000      0.000000      0.000000      0.000000      0.000000   \n",
       "max        1.000000      1.000000      1.000000      1.000000      1.000000   \n",
       "\n",
       "       Any_Complain     Response  \n",
       "count   1552.000000  1552.000000  \n",
       "mean       0.008376     0.153351  \n",
       "std        0.091167     0.360441  \n",
       "min        0.000000     0.000000  \n",
       "25%        0.000000     0.000000  \n",
       "50%        0.000000     0.000000  \n",
       "75%        0.000000     0.000000  \n",
       "max        1.000000     1.000000  \n",
       "\n",
       "[8 rows x 23 columns]"
      ]
     },
     "execution_count": 98,
     "metadata": {},
     "output_type": "execute_result"
    }
   ],
   "source": [
    "train.describe()"
   ]
  },
  {
   "cell_type": "code",
   "execution_count": 99,
   "id": "57ee5980",
   "metadata": {},
   "outputs": [
    {
     "name": "stdout",
     "output_type": "stream",
     "text": [
      "<class 'pandas.core.frame.DataFrame'>\n",
      "Int64Index: 1552 entries, 0 to 1567\n",
      "Data columns (total 27 columns):\n",
      " #   Column                   Non-Null Count  Dtype  \n",
      "---  ------                   --------------  -----  \n",
      " 0   ID                       1552 non-null   object \n",
      " 1   Year_of_Birth            1552 non-null   int64  \n",
      " 2   Education_Level          1552 non-null   object \n",
      " 3   Marital_Status           1552 non-null   object \n",
      " 4   Disposable_Income        1552 non-null   float64\n",
      " 5   No_of_Kids_in_home       1552 non-null   int64  \n",
      " 6   No_of_Teen_in_home       1552 non-null   int64  \n",
      " 7   Date_Customer            1552 non-null   object \n",
      " 8   Recency                  1552 non-null   int64  \n",
      " 9   Discounted_Purchases     1552 non-null   int64  \n",
      " 10  WebPurchases             1552 non-null   int64  \n",
      " 11  CatalogPurchases         1552 non-null   int64  \n",
      " 12  StorePurchases           1552 non-null   int64  \n",
      " 13  Amount_on_Wines          1552 non-null   int64  \n",
      " 14  Amount_on_Fruits         1552 non-null   int64  \n",
      " 15  Amount_on_MeatProducts   1552 non-null   int64  \n",
      " 16  Amount_on_FishProducts   1552 non-null   int64  \n",
      " 17  Amount_on_SweetProducts  1552 non-null   int64  \n",
      " 18  Amount_on_GoldProds      1552 non-null   int64  \n",
      " 19  WebVisitsMonth           1552 non-null   int64  \n",
      " 20  Cmp3Accepted             1552 non-null   int64  \n",
      " 21  Cmp4Accepted             1552 non-null   int64  \n",
      " 22  Cmp5Accepted             1552 non-null   int64  \n",
      " 23  Cmp1Accepted             1552 non-null   int64  \n",
      " 24  Cmp2Accepted             1552 non-null   int64  \n",
      " 25  Any_Complain             1552 non-null   int64  \n",
      " 26  Response                 1552 non-null   int64  \n",
      "dtypes: float64(1), int64(22), object(4)\n",
      "memory usage: 339.5+ KB\n"
     ]
    }
   ],
   "source": [
    "train.info()"
   ]
  },
  {
   "cell_type": "code",
   "execution_count": 101,
   "id": "bced9aa4",
   "metadata": {},
   "outputs": [
    {
     "data": {
      "text/plain": [
       "['ID', 'Education_Level', 'Marital_Status', 'Date_Customer']"
      ]
     },
     "execution_count": 101,
     "metadata": {},
     "output_type": "execute_result"
    }
   ],
   "source": [
    "categorical_feat = list(train.select_dtypes(include = 'object').columns)\n",
    "categorical_feat"
   ]
  },
  {
   "cell_type": "code",
   "execution_count": 102,
   "id": "0af86955",
   "metadata": {},
   "outputs": [],
   "source": [
    "numerical_feat = list(train.select_dtypes(exclude = 'object').columns)\n",
    "numerical_feat.remove('Response')"
   ]
  },
  {
   "cell_type": "code",
   "execution_count": 103,
   "id": "6f9bd3b3",
   "metadata": {},
   "outputs": [
    {
     "data": {
      "text/plain": [
       "['Year_of_Birth',\n",
       " 'Disposable_Income',\n",
       " 'No_of_Kids_in_home',\n",
       " 'No_of_Teen_in_home',\n",
       " 'Recency',\n",
       " 'Discounted_Purchases',\n",
       " 'WebPurchases',\n",
       " 'CatalogPurchases',\n",
       " 'StorePurchases',\n",
       " 'Amount_on_Wines',\n",
       " 'Amount_on_Fruits',\n",
       " 'Amount_on_MeatProducts',\n",
       " 'Amount_on_FishProducts',\n",
       " 'Amount_on_SweetProducts',\n",
       " 'Amount_on_GoldProds',\n",
       " 'WebVisitsMonth',\n",
       " 'Cmp3Accepted',\n",
       " 'Cmp4Accepted',\n",
       " 'Cmp5Accepted',\n",
       " 'Cmp1Accepted',\n",
       " 'Cmp2Accepted',\n",
       " 'Any_Complain']"
      ]
     },
     "execution_count": 103,
     "metadata": {},
     "output_type": "execute_result"
    }
   ],
   "source": [
    "numerical_feat"
   ]
  },
  {
   "cell_type": "markdown",
   "id": "6f621734",
   "metadata": {},
   "source": [
    "#### Data Preprocessing"
   ]
  },
  {
   "cell_type": "code",
   "execution_count": 104,
   "id": "28818863",
   "metadata": {},
   "outputs": [],
   "source": [
    "scaler = StandardScaler()\n",
    "X = pd.DataFrame(scaler.fit_transform(train[numerical_feat]), columns = numerical_feat)\n",
    "testing = pd.DataFrame(scaler.fit_transform(test[numerical_feat]), columns = numerical_feat)"
   ]
  },
  {
   "cell_type": "code",
   "execution_count": 105,
   "id": "01805bd9",
   "metadata": {},
   "outputs": [
    {
     "data": {
      "text/html": [
       "<div>\n",
       "<style scoped>\n",
       "    .dataframe tbody tr th:only-of-type {\n",
       "        vertical-align: middle;\n",
       "    }\n",
       "\n",
       "    .dataframe tbody tr th {\n",
       "        vertical-align: top;\n",
       "    }\n",
       "\n",
       "    .dataframe thead th {\n",
       "        text-align: right;\n",
       "    }\n",
       "</style>\n",
       "<table border=\"1\" class=\"dataframe\">\n",
       "  <thead>\n",
       "    <tr style=\"text-align: right;\">\n",
       "      <th></th>\n",
       "      <th>Year_of_Birth</th>\n",
       "      <th>Disposable_Income</th>\n",
       "      <th>No_of_Kids_in_home</th>\n",
       "      <th>No_of_Teen_in_home</th>\n",
       "      <th>Recency</th>\n",
       "      <th>Discounted_Purchases</th>\n",
       "      <th>WebPurchases</th>\n",
       "      <th>CatalogPurchases</th>\n",
       "      <th>StorePurchases</th>\n",
       "      <th>Amount_on_Wines</th>\n",
       "      <th>...</th>\n",
       "      <th>Amount_on_FishProducts</th>\n",
       "      <th>Amount_on_SweetProducts</th>\n",
       "      <th>Amount_on_GoldProds</th>\n",
       "      <th>WebVisitsMonth</th>\n",
       "      <th>Cmp3Accepted</th>\n",
       "      <th>Cmp4Accepted</th>\n",
       "      <th>Cmp5Accepted</th>\n",
       "      <th>Cmp1Accepted</th>\n",
       "      <th>Cmp2Accepted</th>\n",
       "      <th>Any_Complain</th>\n",
       "    </tr>\n",
       "  </thead>\n",
       "  <tbody>\n",
       "    <tr>\n",
       "      <th>0</th>\n",
       "      <td>-1.264135</td>\n",
       "      <td>0.471439</td>\n",
       "      <td>1.003625</td>\n",
       "      <td>0.923978</td>\n",
       "      <td>0.024130</td>\n",
       "      <td>-0.150603</td>\n",
       "      <td>-1.102886</td>\n",
       "      <td>-0.547764</td>\n",
       "      <td>-0.524792</td>\n",
       "      <td>-0.683391</td>\n",
       "      <td>...</td>\n",
       "      <td>-0.687904</td>\n",
       "      <td>-0.510022</td>\n",
       "      <td>-0.461655</td>\n",
       "      <td>-0.948762</td>\n",
       "      <td>-0.281561</td>\n",
       "      <td>-0.277543</td>\n",
       "      <td>-0.295967</td>\n",
       "      <td>-0.261027</td>\n",
       "      <td>-0.114258</td>\n",
       "      <td>-0.091908</td>\n",
       "    </tr>\n",
       "    <tr>\n",
       "      <th>1</th>\n",
       "      <td>-1.012271</td>\n",
       "      <td>-0.174482</td>\n",
       "      <td>-0.850692</td>\n",
       "      <td>0.923978</td>\n",
       "      <td>-1.331970</td>\n",
       "      <td>1.931674</td>\n",
       "      <td>0.369843</td>\n",
       "      <td>-0.547764</td>\n",
       "      <td>0.703680</td>\n",
       "      <td>-0.290028</td>\n",
       "      <td>...</td>\n",
       "      <td>0.237217</td>\n",
       "      <td>-0.287592</td>\n",
       "      <td>-0.481246</td>\n",
       "      <td>0.269841</td>\n",
       "      <td>-0.281561</td>\n",
       "      <td>-0.277543</td>\n",
       "      <td>-0.295967</td>\n",
       "      <td>-0.261027</td>\n",
       "      <td>-0.114258</td>\n",
       "      <td>-0.091908</td>\n",
       "    </tr>\n",
       "    <tr>\n",
       "      <th>2</th>\n",
       "      <td>-0.676452</td>\n",
       "      <td>1.288501</td>\n",
       "      <td>-0.850692</td>\n",
       "      <td>-0.916861</td>\n",
       "      <td>-1.331970</td>\n",
       "      <td>-1.191741</td>\n",
       "      <td>1.106207</td>\n",
       "      <td>0.437323</td>\n",
       "      <td>0.396562</td>\n",
       "      <td>0.484955</td>\n",
       "      <td>...</td>\n",
       "      <td>-0.151334</td>\n",
       "      <td>-0.213449</td>\n",
       "      <td>-0.128605</td>\n",
       "      <td>-1.354963</td>\n",
       "      <td>-0.281561</td>\n",
       "      <td>-0.277543</td>\n",
       "      <td>-0.295967</td>\n",
       "      <td>3.831027</td>\n",
       "      <td>-0.114258</td>\n",
       "      <td>-0.091908</td>\n",
       "    </tr>\n",
       "    <tr>\n",
       "      <th>3</th>\n",
       "      <td>0.750778</td>\n",
       "      <td>-0.500941</td>\n",
       "      <td>1.003625</td>\n",
       "      <td>-0.916861</td>\n",
       "      <td>-0.219273</td>\n",
       "      <td>0.369966</td>\n",
       "      <td>0.001661</td>\n",
       "      <td>-0.547764</td>\n",
       "      <td>-0.831910</td>\n",
       "      <td>-0.727424</td>\n",
       "      <td>...</td>\n",
       "      <td>-0.373363</td>\n",
       "      <td>-0.065162</td>\n",
       "      <td>-0.383290</td>\n",
       "      <td>1.082243</td>\n",
       "      <td>-0.281561</td>\n",
       "      <td>-0.277543</td>\n",
       "      <td>-0.295967</td>\n",
       "      <td>-0.261027</td>\n",
       "      <td>-0.114258</td>\n",
       "      <td>-0.091908</td>\n",
       "    </tr>\n",
       "    <tr>\n",
       "      <th>4</th>\n",
       "      <td>-0.928316</td>\n",
       "      <td>0.782598</td>\n",
       "      <td>-0.850692</td>\n",
       "      <td>-0.916861</td>\n",
       "      <td>0.128445</td>\n",
       "      <td>-0.671172</td>\n",
       "      <td>-0.366521</td>\n",
       "      <td>1.422410</td>\n",
       "      <td>1.010798</td>\n",
       "      <td>0.317629</td>\n",
       "      <td>...</td>\n",
       "      <td>2.661036</td>\n",
       "      <td>3.419573</td>\n",
       "      <td>3.123529</td>\n",
       "      <td>-1.761164</td>\n",
       "      <td>-0.281561</td>\n",
       "      <td>-0.277543</td>\n",
       "      <td>-0.295967</td>\n",
       "      <td>3.831027</td>\n",
       "      <td>-0.114258</td>\n",
       "      <td>-0.091908</td>\n",
       "    </tr>\n",
       "    <tr>\n",
       "      <th>...</th>\n",
       "      <td>...</td>\n",
       "      <td>...</td>\n",
       "      <td>...</td>\n",
       "      <td>...</td>\n",
       "      <td>...</td>\n",
       "      <td>...</td>\n",
       "      <td>...</td>\n",
       "      <td>...</td>\n",
       "      <td>...</td>\n",
       "      <td>...</td>\n",
       "      <td>...</td>\n",
       "      <td>...</td>\n",
       "      <td>...</td>\n",
       "      <td>...</td>\n",
       "      <td>...</td>\n",
       "      <td>...</td>\n",
       "      <td>...</td>\n",
       "      <td>...</td>\n",
       "      <td>...</td>\n",
       "      <td>...</td>\n",
       "      <td>...</td>\n",
       "    </tr>\n",
       "    <tr>\n",
       "      <th>1547</th>\n",
       "      <td>-0.004814</td>\n",
       "      <td>-0.295758</td>\n",
       "      <td>1.003625</td>\n",
       "      <td>0.923978</td>\n",
       "      <td>-1.088568</td>\n",
       "      <td>-0.150603</td>\n",
       "      <td>-0.734704</td>\n",
       "      <td>-0.876127</td>\n",
       "      <td>-0.831910</td>\n",
       "      <td>-0.806684</td>\n",
       "      <td>...</td>\n",
       "      <td>-0.650899</td>\n",
       "      <td>-0.658308</td>\n",
       "      <td>-0.775113</td>\n",
       "      <td>-0.136360</td>\n",
       "      <td>-0.281561</td>\n",
       "      <td>-0.277543</td>\n",
       "      <td>-0.295967</td>\n",
       "      <td>-0.261027</td>\n",
       "      <td>-0.114258</td>\n",
       "      <td>-0.091908</td>\n",
       "    </tr>\n",
       "    <tr>\n",
       "      <th>1548</th>\n",
       "      <td>0.834733</td>\n",
       "      <td>0.368119</td>\n",
       "      <td>-0.850692</td>\n",
       "      <td>0.923978</td>\n",
       "      <td>0.267532</td>\n",
       "      <td>-0.671172</td>\n",
       "      <td>0.001661</td>\n",
       "      <td>-0.219402</td>\n",
       "      <td>0.703680</td>\n",
       "      <td>-0.401579</td>\n",
       "      <td>...</td>\n",
       "      <td>0.329730</td>\n",
       "      <td>0.083125</td>\n",
       "      <td>-0.324517</td>\n",
       "      <td>-0.542561</td>\n",
       "      <td>-0.281561</td>\n",
       "      <td>-0.277543</td>\n",
       "      <td>-0.295967</td>\n",
       "      <td>-0.261027</td>\n",
       "      <td>-0.114258</td>\n",
       "      <td>-0.091908</td>\n",
       "    </tr>\n",
       "    <tr>\n",
       "      <th>1549</th>\n",
       "      <td>-1.516000</td>\n",
       "      <td>0.575957</td>\n",
       "      <td>-0.850692</td>\n",
       "      <td>0.923978</td>\n",
       "      <td>0.650022</td>\n",
       "      <td>0.890535</td>\n",
       "      <td>-0.734704</td>\n",
       "      <td>-0.219402</td>\n",
       "      <td>1.010798</td>\n",
       "      <td>1.515330</td>\n",
       "      <td>...</td>\n",
       "      <td>-0.484377</td>\n",
       "      <td>-0.658308</td>\n",
       "      <td>0.517904</td>\n",
       "      <td>0.676042</td>\n",
       "      <td>-0.281561</td>\n",
       "      <td>3.603052</td>\n",
       "      <td>-0.295967</td>\n",
       "      <td>-0.261027</td>\n",
       "      <td>-0.114258</td>\n",
       "      <td>-0.091908</td>\n",
       "    </tr>\n",
       "    <tr>\n",
       "      <th>1550</th>\n",
       "      <td>-0.508543</td>\n",
       "      <td>-0.114705</td>\n",
       "      <td>1.003625</td>\n",
       "      <td>0.923978</td>\n",
       "      <td>-0.949480</td>\n",
       "      <td>-0.150603</td>\n",
       "      <td>-1.102886</td>\n",
       "      <td>-0.876127</td>\n",
       "      <td>-0.524792</td>\n",
       "      <td>-0.724489</td>\n",
       "      <td>...</td>\n",
       "      <td>-0.687904</td>\n",
       "      <td>-0.658308</td>\n",
       "      <td>-0.833887</td>\n",
       "      <td>-0.542561</td>\n",
       "      <td>-0.281561</td>\n",
       "      <td>-0.277543</td>\n",
       "      <td>-0.295967</td>\n",
       "      <td>-0.261027</td>\n",
       "      <td>-0.114258</td>\n",
       "      <td>-0.091908</td>\n",
       "    </tr>\n",
       "    <tr>\n",
       "      <th>1551</th>\n",
       "      <td>-0.004814</td>\n",
       "      <td>-1.075712</td>\n",
       "      <td>1.003625</td>\n",
       "      <td>-0.916861</td>\n",
       "      <td>0.789109</td>\n",
       "      <td>-0.150603</td>\n",
       "      <td>-0.734704</td>\n",
       "      <td>-0.876127</td>\n",
       "      <td>-0.831910</td>\n",
       "      <td>-0.838975</td>\n",
       "      <td>...</td>\n",
       "      <td>-0.576890</td>\n",
       "      <td>-0.633594</td>\n",
       "      <td>-0.853478</td>\n",
       "      <td>1.082243</td>\n",
       "      <td>-0.281561</td>\n",
       "      <td>-0.277543</td>\n",
       "      <td>-0.295967</td>\n",
       "      <td>-0.261027</td>\n",
       "      <td>-0.114258</td>\n",
       "      <td>-0.091908</td>\n",
       "    </tr>\n",
       "  </tbody>\n",
       "</table>\n",
       "<p>1552 rows × 22 columns</p>\n",
       "</div>"
      ],
      "text/plain": [
       "      Year_of_Birth  Disposable_Income  No_of_Kids_in_home  \\\n",
       "0         -1.264135           0.471439            1.003625   \n",
       "1         -1.012271          -0.174482           -0.850692   \n",
       "2         -0.676452           1.288501           -0.850692   \n",
       "3          0.750778          -0.500941            1.003625   \n",
       "4         -0.928316           0.782598           -0.850692   \n",
       "...             ...                ...                 ...   \n",
       "1547      -0.004814          -0.295758            1.003625   \n",
       "1548       0.834733           0.368119           -0.850692   \n",
       "1549      -1.516000           0.575957           -0.850692   \n",
       "1550      -0.508543          -0.114705            1.003625   \n",
       "1551      -0.004814          -1.075712            1.003625   \n",
       "\n",
       "      No_of_Teen_in_home   Recency  Discounted_Purchases  WebPurchases  \\\n",
       "0               0.923978  0.024130             -0.150603     -1.102886   \n",
       "1               0.923978 -1.331970              1.931674      0.369843   \n",
       "2              -0.916861 -1.331970             -1.191741      1.106207   \n",
       "3              -0.916861 -0.219273              0.369966      0.001661   \n",
       "4              -0.916861  0.128445             -0.671172     -0.366521   \n",
       "...                  ...       ...                   ...           ...   \n",
       "1547            0.923978 -1.088568             -0.150603     -0.734704   \n",
       "1548            0.923978  0.267532             -0.671172      0.001661   \n",
       "1549            0.923978  0.650022              0.890535     -0.734704   \n",
       "1550            0.923978 -0.949480             -0.150603     -1.102886   \n",
       "1551           -0.916861  0.789109             -0.150603     -0.734704   \n",
       "\n",
       "      CatalogPurchases  StorePurchases  Amount_on_Wines  ...  \\\n",
       "0            -0.547764       -0.524792        -0.683391  ...   \n",
       "1            -0.547764        0.703680        -0.290028  ...   \n",
       "2             0.437323        0.396562         0.484955  ...   \n",
       "3            -0.547764       -0.831910        -0.727424  ...   \n",
       "4             1.422410        1.010798         0.317629  ...   \n",
       "...                ...             ...              ...  ...   \n",
       "1547         -0.876127       -0.831910        -0.806684  ...   \n",
       "1548         -0.219402        0.703680        -0.401579  ...   \n",
       "1549         -0.219402        1.010798         1.515330  ...   \n",
       "1550         -0.876127       -0.524792        -0.724489  ...   \n",
       "1551         -0.876127       -0.831910        -0.838975  ...   \n",
       "\n",
       "      Amount_on_FishProducts  Amount_on_SweetProducts  Amount_on_GoldProds  \\\n",
       "0                  -0.687904                -0.510022            -0.461655   \n",
       "1                   0.237217                -0.287592            -0.481246   \n",
       "2                  -0.151334                -0.213449            -0.128605   \n",
       "3                  -0.373363                -0.065162            -0.383290   \n",
       "4                   2.661036                 3.419573             3.123529   \n",
       "...                      ...                      ...                  ...   \n",
       "1547               -0.650899                -0.658308            -0.775113   \n",
       "1548                0.329730                 0.083125            -0.324517   \n",
       "1549               -0.484377                -0.658308             0.517904   \n",
       "1550               -0.687904                -0.658308            -0.833887   \n",
       "1551               -0.576890                -0.633594            -0.853478   \n",
       "\n",
       "      WebVisitsMonth  Cmp3Accepted  Cmp4Accepted  Cmp5Accepted  Cmp1Accepted  \\\n",
       "0          -0.948762     -0.281561     -0.277543     -0.295967     -0.261027   \n",
       "1           0.269841     -0.281561     -0.277543     -0.295967     -0.261027   \n",
       "2          -1.354963     -0.281561     -0.277543     -0.295967      3.831027   \n",
       "3           1.082243     -0.281561     -0.277543     -0.295967     -0.261027   \n",
       "4          -1.761164     -0.281561     -0.277543     -0.295967      3.831027   \n",
       "...              ...           ...           ...           ...           ...   \n",
       "1547       -0.136360     -0.281561     -0.277543     -0.295967     -0.261027   \n",
       "1548       -0.542561     -0.281561     -0.277543     -0.295967     -0.261027   \n",
       "1549        0.676042     -0.281561      3.603052     -0.295967     -0.261027   \n",
       "1550       -0.542561     -0.281561     -0.277543     -0.295967     -0.261027   \n",
       "1551        1.082243     -0.281561     -0.277543     -0.295967     -0.261027   \n",
       "\n",
       "      Cmp2Accepted  Any_Complain  \n",
       "0        -0.114258     -0.091908  \n",
       "1        -0.114258     -0.091908  \n",
       "2        -0.114258     -0.091908  \n",
       "3        -0.114258     -0.091908  \n",
       "4        -0.114258     -0.091908  \n",
       "...            ...           ...  \n",
       "1547     -0.114258     -0.091908  \n",
       "1548     -0.114258     -0.091908  \n",
       "1549     -0.114258     -0.091908  \n",
       "1550     -0.114258     -0.091908  \n",
       "1551     -0.114258     -0.091908  \n",
       "\n",
       "[1552 rows x 22 columns]"
      ]
     },
     "execution_count": 105,
     "metadata": {},
     "output_type": "execute_result"
    }
   ],
   "source": [
    "X"
   ]
  },
  {
   "cell_type": "markdown",
   "id": "61081459",
   "metadata": {},
   "source": [
    "#### Defining Model\n",
    "Since there are no Missing values we go straight to splitting our data for model fitting"
   ]
  },
  {
   "cell_type": "code",
   "execution_count": 199,
   "id": "bd1b4c88",
   "metadata": {},
   "outputs": [],
   "source": [
    "X_train, X_test, y_train, y_test = train_test_split(X, y, test_size=0.33, random_state=42)"
   ]
  },
  {
   "cell_type": "code",
   "execution_count": 200,
   "id": "940aac5a",
   "metadata": {},
   "outputs": [
    {
     "data": {
      "text/plain": [
       "LogisticRegression()"
      ]
     },
     "execution_count": 200,
     "metadata": {},
     "output_type": "execute_result"
    }
   ],
   "source": [
    "# Train the Model\n",
    "logistic_reg_model = LogisticRegression()\n",
    "logistic_reg_model.fit(X_train, y_train)"
   ]
  },
  {
   "cell_type": "code",
   "execution_count": 220,
   "id": "4722ea6a",
   "metadata": {},
   "outputs": [],
   "source": [
    "# Predict\n",
    "# We use both the 'X_train and X_test just to ensre we are not over fitting'\n",
    "pred = logistic_reg_model.predict(X_test)"
   ]
  },
  {
   "cell_type": "code",
   "execution_count": 221,
   "id": "d6e70c88",
   "metadata": {},
   "outputs": [
    {
     "name": "stdout",
     "output_type": "stream",
     "text": [
      "Testing set Evalution:\n",
      "Classifier f1_score value is: 0.5593220338983051\n"
     ]
    }
   ],
   "source": [
    "print('Testing set Evalution:')\n",
    "print(f'Classifier f1_score value is: {f1_score(y_test, pred)}')"
   ]
  },
  {
   "cell_type": "code",
   "execution_count": 222,
   "id": "72419d55",
   "metadata": {},
   "outputs": [
    {
     "data": {
      "text/plain": [
       "0.847209584470731"
      ]
     },
     "execution_count": 222,
     "metadata": {},
     "output_type": "execute_result"
    }
   ],
   "source": [
    "precision_score(y_test, pred, average='macro')"
   ]
  },
  {
   "cell_type": "markdown",
   "id": "06d71be4",
   "metadata": {},
   "source": [
    "#### Submitting Section"
   ]
  },
  {
   "cell_type": "code",
   "execution_count": 1,
   "id": "402b6e4a",
   "metadata": {},
   "outputs": [
    {
     "ename": "NameError",
     "evalue": "name 'logistic_reg_model' is not defined",
     "output_type": "error",
     "traceback": [
      "\u001b[1;31m---------------------------------------------------------------------------\u001b[0m",
      "\u001b[1;31mNameError\u001b[0m                                 Traceback (most recent call last)",
      "\u001b[1;32m<ipython-input-1-799f9bbc6f92>\u001b[0m in \u001b[0;36m<module>\u001b[1;34m\u001b[0m\n\u001b[0;32m      1\u001b[0m \u001b[1;31m# submission_file = pd.DataFrame({'Id': test.ID, 'Response':logistic_reg_model.predict(testing)})\u001b[0m\u001b[1;33m\u001b[0m\u001b[1;33m\u001b[0m\u001b[1;33m\u001b[0m\u001b[0m\n\u001b[1;32m----> 2\u001b[1;33m \u001b[0mlogistic_reg_model\u001b[0m\u001b[1;33m.\u001b[0m\u001b[0mpredict\u001b[0m\u001b[1;33m(\u001b[0m\u001b[0mtesting\u001b[0m\u001b[1;33m)\u001b[0m\u001b[1;33m\u001b[0m\u001b[1;33m\u001b[0m\u001b[0m\n\u001b[0m",
      "\u001b[1;31mNameError\u001b[0m: name 'logistic_reg_model' is not defined"
     ]
    }
   ],
   "source": [
    "# submission_file = pd.DataFrame({'Id': test.ID, 'Response':logistic_reg_model.predict(testing)})\n",
    "logistic_reg_model.predict(testing)"
   ]
  },
  {
   "cell_type": "code",
   "execution_count": 230,
   "id": "66ca133b",
   "metadata": {},
   "outputs": [
    {
     "data": {
      "text/html": [
       "<div>\n",
       "<style scoped>\n",
       "    .dataframe tbody tr th:only-of-type {\n",
       "        vertical-align: middle;\n",
       "    }\n",
       "\n",
       "    .dataframe tbody tr th {\n",
       "        vertical-align: top;\n",
       "    }\n",
       "\n",
       "    .dataframe thead th {\n",
       "        text-align: right;\n",
       "    }\n",
       "</style>\n",
       "<table border=\"1\" class=\"dataframe\">\n",
       "  <thead>\n",
       "    <tr style=\"text-align: right;\">\n",
       "      <th></th>\n",
       "      <th>Id</th>\n",
       "      <th>Response</th>\n",
       "    </tr>\n",
       "  </thead>\n",
       "  <tbody>\n",
       "    <tr>\n",
       "      <th>0</th>\n",
       "      <td>ID_ZPMABNVX</td>\n",
       "      <td>0</td>\n",
       "    </tr>\n",
       "    <tr>\n",
       "      <th>1</th>\n",
       "      <td>ID_WFE91NAA</td>\n",
       "      <td>0</td>\n",
       "    </tr>\n",
       "    <tr>\n",
       "      <th>2</th>\n",
       "      <td>ID_JV11RBRK</td>\n",
       "      <td>0</td>\n",
       "    </tr>\n",
       "    <tr>\n",
       "      <th>3</th>\n",
       "      <td>ID_6B7SVKY9</td>\n",
       "      <td>1</td>\n",
       "    </tr>\n",
       "    <tr>\n",
       "      <th>4</th>\n",
       "      <td>ID_GOVUZ545</td>\n",
       "      <td>0</td>\n",
       "    </tr>\n",
       "    <tr>\n",
       "      <th>...</th>\n",
       "      <td>...</td>\n",
       "      <td>...</td>\n",
       "    </tr>\n",
       "    <tr>\n",
       "      <th>667</th>\n",
       "      <td>ID_1D68PV28</td>\n",
       "      <td>0</td>\n",
       "    </tr>\n",
       "    <tr>\n",
       "      <th>668</th>\n",
       "      <td>ID_TM6CYFZO</td>\n",
       "      <td>0</td>\n",
       "    </tr>\n",
       "    <tr>\n",
       "      <th>669</th>\n",
       "      <td>ID_VHR666SC</td>\n",
       "      <td>0</td>\n",
       "    </tr>\n",
       "    <tr>\n",
       "      <th>670</th>\n",
       "      <td>ID_O852YAO1</td>\n",
       "      <td>0</td>\n",
       "    </tr>\n",
       "    <tr>\n",
       "      <th>671</th>\n",
       "      <td>ID_ML5HMWHI</td>\n",
       "      <td>0</td>\n",
       "    </tr>\n",
       "  </tbody>\n",
       "</table>\n",
       "<p>664 rows × 2 columns</p>\n",
       "</div>"
      ],
      "text/plain": [
       "              Id  Response\n",
       "0    ID_ZPMABNVX         0\n",
       "1    ID_WFE91NAA         0\n",
       "2    ID_JV11RBRK         0\n",
       "3    ID_6B7SVKY9         1\n",
       "4    ID_GOVUZ545         0\n",
       "..           ...       ...\n",
       "667  ID_1D68PV28         0\n",
       "668  ID_TM6CYFZO         0\n",
       "669  ID_VHR666SC         0\n",
       "670  ID_O852YAO1         0\n",
       "671  ID_ML5HMWHI         0\n",
       "\n",
       "[664 rows x 2 columns]"
      ]
     },
     "execution_count": 230,
     "metadata": {},
     "output_type": "execute_result"
    }
   ],
   "source": [
    "submission_file"
   ]
  },
  {
   "cell_type": "code",
   "execution_count": 233,
   "id": "c6493506",
   "metadata": {},
   "outputs": [
    {
     "data": {
      "text/plain": [
       "<AxesSubplot:xlabel='Response', ylabel='count'>"
      ]
     },
     "execution_count": 233,
     "metadata": {},
     "output_type": "execute_result"
    },
    {
     "data": {
      "image/png": "[encoded data removed]",
      "text/plain": [
       "<Figure size 432x288 with 1 Axes>"
      ]
     },
     "metadata": {
      "needs_background": "light"
     },
     "output_type": "display_data"
    }
   ],
   "source": [
    "sns.countplot(x = submission_file.Response)"
   ]
  },
  {
   "cell_type": "code",
   "execution_count": 234,
   "id": "0ae4a83f",
   "metadata": {},
   "outputs": [],
   "source": [
    "submission_file.to_csv('my_first_submission.csv', index = False)"
   ]
  },
  {
   "cell_type": "code",
   "execution_count": null,
   "id": "60970ad6",
   "metadata": {},
   "outputs": [],
   "source": []
  }
 ],
 "metadata": {
  "kernelspec": {
   "display_name": "Python 3",
   "language": "python",
   "name": "python3"
  },
  "language_info": {
   "codemirror_mode": {
    "name": "ipython",
    "version": 3
   },
   "file_extension": ".py",
   "mimetype": "text/x-python",
   "name": "python",
   "nbconvert_exporter": "python",
   "pygments_lexer": "ipython3",
   "version": "3.8.8"
  }
 },
 "nbformat": 4,
 "nbformat_minor": 5
}
